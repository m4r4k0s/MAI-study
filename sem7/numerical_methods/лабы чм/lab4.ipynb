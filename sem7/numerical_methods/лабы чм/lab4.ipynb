{
 "cells": [
  {
   "cell_type": "markdown",
   "metadata": {},
   "source": [
    "## Лабораторная работа №4"
   ]
  },
  {
   "cell_type": "markdown",
   "metadata": {},
   "source": [
    "### Хахин Максим М8О-403Б-18"
   ]
  },
  {
   "cell_type": "markdown",
   "metadata": {},
   "source": [
    "Используя схемы переменных направлений и дробных шагов, решить двумерную начально-краевую задачу для дифференциального уравнения параболического типа. В различные моменты времени вычислить погрешность численного решения путем сравнения результатов с приведенным в задании аналитическим решением U(x, t). Исследовать зависимость погрешности от сеточных параметров ta"
   ]
  },
  {
   "cell_type": "markdown",
   "metadata": {},
   "source": [
    "![title](lab4.png)"
   ]
  },
  {
   "cell_type": "code",
   "execution_count": 1,
   "metadata": {},
   "outputs": [],
   "source": [
    "import numpy as np\n",
    "from matplotlib import pyplot as plt\n",
    "\n",
    "import warnings\n",
    "warnings.filterwarnings(\"ignore\")"
   ]
  },
  {
   "cell_type": "code",
   "execution_count": 26,
   "metadata": {},
   "outputs": [],
   "source": [
    "a = 1\n",
    "b = 1\n",
    "\n",
    "lx = 1\n",
    "ly = 1\n",
    "lt = 5\n",
    "omega = 1.5\n",
    "nx = 100\n",
    "ny = 100\n",
    "nt = 100\n",
    "eps = 0.001\n",
    "\n",
    "u0yt = lambda y, t: 0\n",
    "ulyt = lambda y, t: 0\n",
    "ux0t = lambda x, t: 0\n",
    "uxlt = lambda x, t: 0\n",
    "uxy0 = lambda x, y: x*y\n",
    "f = lambda x, y, t: -x*y*np.sin(t)\n",
    "\n",
    "fResult = lambda x, y, t: x*y*np.cos(t)\n",
    "\n",
    "alpha1 = 1\n",
    "betta1 = -1\n",
    "alpha2 = 1\n",
    "betta2 = -1\n",
    "\n",
    "hx = lx / nx\n",
    "hy = ly / ny\n",
    "ht = lt / nt\n",
    "\n",
    "tt = 3\n",
    "yy = 3\n",
    "U = []\n"
   ]
  },
  {
   "cell_type": "code",
   "execution_count": 27,
   "metadata": {},
   "outputs": [],
   "source": [
    "def plotSlice(f, X, y, t):\n",
    "    plt.subplot(2, 1, 1)\n",
    "    plt.plot(X, f(X, y, t))\n",
    "    plt.grid\n",
    "\n",
    "\n",
    "def showPostProcess(t, y):\n",
    "    i = 2\n",
    "    X = np.linspace(0, lx, nx)\n",
    "    plotSlice(fResult, X, y * hy, ht * t * 2)\n",
    "    plt.subplot(2, 1, 1)\n",
    "    plt.plot(X, U[i*t, :, y])\n",
    "\n",
    "\n",
    "def Error(U, fR):\n",
    "    i = 2\n",
    "    X = np.linspace(0, lx, nx)\n",
    "    Y = np.linspace(0, ly, ny)\n",
    "    T = list(range(0, int(U.shape[0]/2)))\n",
    "    plt.subplot(2, 1, 2)\n",
    "    XX, YY = np.meshgrid(X, Y)\n",
    "    plt.plot(T, list(map(lambda t: np.max(np.abs(U[i*t] - np.transpose(fR(XX, YY, ht * t * i)))), T)))\n",
    "\n",
    "\n",
    "def gridFun(iCond, bCond):\n",
    "    xCond, yCond = bCond\n",
    "    xlCond, xrCond = xCond\n",
    "    ylCond, yrCond = yCond\n",
    "    tlCond, trCond = iCond\n",
    "    return np.zeros((trCond, xrCond, yrCond))"
   ]
  },
  {
   "cell_type": "code",
   "execution_count": 28,
   "metadata": {},
   "outputs": [],
   "source": [
    "def parabolicEquation2D(iCond, bCond, method):\n",
    "\n",
    "    def init():\n",
    "        for m in range(nx):\n",
    "            for n in range(ny):\n",
    "                U[0][m][n] = uxy0(m * hx, n * hy)\n",
    "\n",
    "    def solve():\n",
    "        for k in range(0, nt - i, i):\n",
    "            for n in range(1, ny - 1):\n",
    "                A1 = getA1(k, n)\n",
    "                B1 = getB1(k, n)\n",
    "                U[int(k + i / 2), :, n] = np.linalg.solve(A1, B1)[:, 0]\n",
    "            for m in range(1, nx - 1):\n",
    "                A2 = getA2(k, m)\n",
    "                B2 = getB2(k, m)\n",
    "                U[k + i, m, :] = np.linalg.solve(A2, B2)[:, 0]\n",
    "            for n in range(0, ny):\n",
    "                U[k + i][0][n] = (u0yt(n * hy, (k + i) * ht) - c1 * U[k + i][1][n]) / b1\n",
    "                U[k + i][nx - 1][n] = (ulyt(n * hy, (k + i) * ht) - aN1 * U[k + i][nx - 2][n]) / bN1\n",
    "\n",
    "    def FractionSteps():\n",
    "\n",
    "        aj1 = -a/hx**2\n",
    "        bj1 = 1/ht/2 + 2*a/hx**2\n",
    "        cj1 = -a/hx**2\n",
    "\n",
    "        aj2 = -b/hy**2\n",
    "        bj2 = 1/ht/2 + 2*b/hy**2\n",
    "        cj2 = -b/hy**2\n",
    "\n",
    "        def gA1(k, n):\n",
    "            aa = np.zeros((nx, nx))\n",
    "            aa[0][0] = b1\n",
    "            aa[0][1] = c1\n",
    "            for j in range(1, nx - 1):\n",
    "                aa[j][j - 1] = aj1\n",
    "                aa[j][j] = bj1\n",
    "                aa[j][j + 1] = cj1\n",
    "            aa[nx - 1][nx - 2] = aN1\n",
    "            aa[nx - 1][nx - 1] = bN1\n",
    "            return aa\n",
    "\n",
    "        def gB1(k, n):\n",
    "            bb = np.zeros((nx, 1))\n",
    "            bb[0][0] = u0yt(n * hy, ht * (k + i))\n",
    "            bb[nx - 1][0] = ulyt(n * hy, ht * (k + i))\n",
    "            for m in range(1, nx - 1):\n",
    "                bb[m][0] = f(m * hx, n * hy, k * ht)/2 + U[k][m][n] / ht / 2\n",
    "            return bb\n",
    "\n",
    "        def gA2(k, m):\n",
    "            aa = np.zeros((ny, ny))\n",
    "            aa[0][0] = b2\n",
    "            aa[0][1] = c2\n",
    "            for j in range(1, ny - 1):\n",
    "                aa[j][j - 1] = aj2\n",
    "                aa[j][j] = bj2\n",
    "                aa[j][j + 1] = cj2\n",
    "            aa[ny - 1][ny - 2] = aN2\n",
    "            aa[ny - 1][ny - 1] = bN2\n",
    "            return aa\n",
    "\n",
    "        def gB2(k, m):\n",
    "            bb = np.zeros((ny, 1))\n",
    "            bb[0][0] = ux0t(m * hx, ht * (k + i))\n",
    "            bb[ny - 1][0] = uxlt(m * hx, ht * (k + i))\n",
    "            for n in range(1, ny - 1):\n",
    "                bb[n][0] = f(m * hx, n * hy, (k + i) * ht)/2 + U[int(k + i/2)][m][n] / ht / 2\n",
    "            return bb\n",
    "        return (gA1, gB1), (gA2, gB2)\n",
    "\n",
    "    def AlternatingDirection():\n",
    "\n",
    "        aj1 = -a / hx ** 2\n",
    "        bj1 = 1 / ht + 2 * a / hx ** 2\n",
    "        cj1 = -a / hx ** 2\n",
    "\n",
    "        aj2 = -b / hy ** 2\n",
    "        bj2 = 1 / ht + 2 * b / hy ** 2\n",
    "        cj2 = -b / hy ** 2\n",
    "\n",
    "        def gA1(k, n):\n",
    "            aa = np.zeros((nx, nx))\n",
    "            aa[0][0] = b1\n",
    "            aa[0][1] = c1\n",
    "            for j in range(1, nx - 1):\n",
    "                aa[j][j - 1] = aj1\n",
    "                aa[j][j] = bj1\n",
    "                aa[j][j + 1] = cj1\n",
    "            aa[nx - 1][nx - 2] = aN1\n",
    "            aa[nx - 1][nx - 1] = bN1\n",
    "            return aa\n",
    "\n",
    "        def gB1(k, n):\n",
    "            bb = np.zeros((nx, 1))\n",
    "            bb[0][0] = u0yt(n * hy, ht * (k + i))\n",
    "            bb[nx - 1][0] = ulyt(n * hy, ht * (k + i))\n",
    "            for m in range(1, nx - 1):\n",
    "                bb[m][0] = f(m * hx, n * hy, int(k + i/2) * ht) + (1 / ht - 2*b/ hy**2) * U[k][m][n] + (b/hy**2) * (U[k][m][n + 1] + U[k][m][n - 1])\n",
    "            return bb\n",
    "\n",
    "        def gA2(k, m):\n",
    "            aa = np.zeros((ny, ny))\n",
    "            aa[0][0] = b2\n",
    "            aa[0][1] = c2\n",
    "            for j in range(1, ny - 1):\n",
    "                aa[j][j - 1] = aj2\n",
    "                aa[j][j] = bj2\n",
    "                aa[j][j + 1] = cj2\n",
    "            aa[ny - 1][ny - 2] = aN2\n",
    "            aa[ny - 1][ny - 1] = bN2\n",
    "            return aa\n",
    "\n",
    "        def gB2(k, m):\n",
    "            bb = np.zeros((ny, 1))\n",
    "            bb[0][0] = ux0t(m * hx, ht * (k + i))\n",
    "            bb[ny - 1][0] = uxlt(m * hx, ht * (k + i))\n",
    "            for n in range(1, ny - 1):\n",
    "                bb[n][0] = f(m * hx, n * hy, int(k + i/2) * ht) + (1 / ht - 2*a/ hx**2) * U[int(k + i/2)][m][n] + (a/hx**2) * (U[int(k + i/2)][m + 1][n] + U[int(k + i/2)][m - 1][n])\n",
    "            return bb\n",
    "\n",
    "        return (gA1, gB1), (gA2, gB2)\n",
    "    if method == 1:\n",
    "        (getA1, getB1), (getA2, getB2) = AlternatingDirection()\n",
    "    elif method == 2:\n",
    "        (getA1, getB1), (getA2, getB2) = FractionSteps()\n",
    "    else:\n",
    "        pass\n",
    "    b1 = 1\n",
    "    c1 = 0\n",
    "    b2 = 1\n",
    "    c2 = 0\n",
    "\n",
    "    aN1 = -betta1 / hx\n",
    "    bN1 = alpha1 + betta1 / hx\n",
    "    aN2 = -betta2 / hy\n",
    "    bN2 = alpha2 + betta2 / hy\n",
    "\n",
    "    uxy0 = iCond\n",
    "    xCond, yCond = bCond\n",
    "    u0yt, ulyt = xCond\n",
    "    ux0t, uxlt = yCond\n",
    "    U = gridFun((0, nt), ((0, nx), (0, ny)))\n",
    "    i = 2\n",
    "    init()\n",
    "    solve()\n",
    "    return U"
   ]
  },
  {
   "cell_type": "code",
   "execution_count": 29,
   "metadata": {},
   "outputs": [],
   "source": [
    "def solver():\n",
    "    global a, b, nx, ny, nt, hx, hy, ht, U, tt, yy\n",
    "    i = 2\n",
    "    a = a\n",
    "    b = b\n",
    "    nx = nx\n",
    "    ny = ny\n",
    "    nt = 2 * nt\n",
    "    tt = tt\n",
    "    yy = yy\n",
    "    hx = lx / nx\n",
    "    hy = ly / ny\n",
    "    ht = lt / nt\n",
    "    nx += 1\n",
    "    ny += 1\n",
    "    nt += i\n",
    "    U = []"
   ]
  },
  {
   "cell_type": "markdown",
   "metadata": {},
   "source": [
    "Метод Переменных направлений"
   ]
  },
  {
   "cell_type": "code",
   "execution_count": 30,
   "metadata": {},
   "outputs": [
    {
     "data": {
      "image/png": "[encoded data removed]",
      "text/plain": [
       "<Figure size 432x288 with 2 Axes>"
      ]
     },
     "metadata": {
      "needs_background": "light"
     },
     "output_type": "display_data"
    }
   ],
   "source": [
    "U = parabolicEquation2D(uxy0, ((ux0t, uxlt), (u0yt, ulyt)), 1)\n",
    "showPostProcess(tt, yy)\n",
    "Error(U, fResult)\n",
    "plt.show()"
   ]
  },
  {
   "cell_type": "markdown",
   "metadata": {},
   "source": [
    "Метод Дробных шагов"
   ]
  },
  {
   "cell_type": "code",
   "execution_count": 31,
   "metadata": {},
   "outputs": [
    {
     "data": {
      "image/png": "[encoded data removed]",
      "text/plain": [
       "<Figure size 432x288 with 2 Axes>"
      ]
     },
     "metadata": {
      "needs_background": "light"
     },
     "output_type": "display_data"
    }
   ],
   "source": [
    "U = parabolicEquation2D(uxy0, ((ux0t, uxlt), (u0yt, ulyt)), 2)\n",
    "showPostProcess(tt, yy)\n",
    "Error(U, fResult)\n",
    "plt.show()"
   ]
  },
  {
   "cell_type": "code",
   "execution_count": null,
   "metadata": {},
   "outputs": [],
   "source": []
  }
 ],
 "metadata": {
  "kernelspec": {
   "display_name": "Python 3 (ipykernel)",
   "language": "python",
   "name": "python3"
  },
  "language_info": {
   "codemirror_mode": {
    "name": "ipython",
    "version": 3
   },
   "file_extension": ".py",
   "mimetype": "text/x-python",
   "name": "python",
   "nbconvert_exporter": "python",
   "pygments_lexer": "ipython3",
   "version": "3.9.7"
  }
 },
 "nbformat": 4,
 "nbformat_minor": 4
}
