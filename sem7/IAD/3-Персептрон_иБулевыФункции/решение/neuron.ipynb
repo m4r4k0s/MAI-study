{
 "cells": [
  {
   "cell_type": "code",
   "execution_count": 3,
   "metadata": {
    "application/vnd.databricks.v1+cell": {
     "inputWidgets": {},
     "nuid": "77144661-7243-4def-a96d-08e1789f0b65",
     "showTitle": false,
     "title": ""
    }
   },
   "outputs": [],
   "source": [
    "import numpy as np\n",
    "import matplotlib.pyplot as plt"
   ]
  },
  {
   "cell_type": "markdown",
   "metadata": {
    "application/vnd.databricks.v1+cell": {
     "inputWidgets": {},
     "nuid": "9e7c873b-444c-438c-805f-5a9fb1a41947",
     "showTitle": false,
     "title": ""
    }
   },
   "source": [
    "Создаем  класс \"Нейрон\""
   ]
  },
  {
   "cell_type": "code",
   "execution_count": 4,
   "metadata": {
    "application/vnd.databricks.v1+cell": {
     "inputWidgets": {},
     "nuid": "48f4ca88-ecc0-45fb-a5ca-80a1892eb860",
     "showTitle": false,
     "title": ""
    }
   },
   "outputs": [],
   "source": [
    "class Neuron:\n",
    "    \n",
    "    def __init__(self, x, labels, w): \n",
    "        self.x = x \n",
    "        self.labels = labels \n",
    "        self.w = w\n",
    "    \n",
    "    def summ(self, w, x): \n",
    "        res = w[0]        \n",
    "        for i in range(1, len(w)): \n",
    "            res += w[i]*x[i-1]\n",
    "        return res\n",
    "    \n",
    "    def sign(self, val):\n",
    "        return -1 if val<=0 else 1\n",
    "    \n",
    "    def col(self, i):\n",
    "        return 'blue' if self.labels[i] == 1 else 'red'\n",
    "    \n",
    "    def x1(self, x):\n",
    "        return -1*(self.w[0] + self.w[1]*x)/self.w[2]\n",
    "    \n",
    "    def learn(self):\n",
    "        N = 100\n",
    "        alpha = 0.1 # Learning rate\n",
    "        for i in range(N):\n",
    "            mismatch = 0\n",
    "            for j in range(len(self.x)):\n",
    "                y = self.sign(self.summ(self.w, self.x[j]))\n",
    "                if y * self.labels[j] < 0:\n",
    "                    mismatch = 1\n",
    "                    self.w[0] += alpha * self.labels[j]\n",
    "                    for i in range(1, len(self.w)):\n",
    "                        self.w[i] += alpha*self.labels[j]*self.x[j][i-1]\n",
    "                    \n",
    "            if mismatch == 0:\n",
    "                print('Обучение закончилось на ', i, 'шагу.')\n",
    "                x0 = []; x1 = []\n",
    "                try:\n",
    "                    for i in range(len(self.x)):\n",
    "                        x0.append(self.x[i][0])\n",
    "                        plt.scatter(self.x[i][0], self.x[i][1], color = self.col(i))\n",
    "                    plt.plot(x0, [self.x1(x) for x in x0])\n",
    "                    print('\\n \\n \\t Синий - 1, Красный - 0')\n",
    "                except IndexError:\n",
    "                    print(self.w)\n",
    "                break\n",
    "                \n",
    "    def output(self, x_input):\n",
    "        return 1 if \\\n",
    "    self.sign(self.summ(self.w, x_input)) == 1 else 0\n",
    "\n",
    "    \n",
    "    "
   ]
  },
  {
   "cell_type": "markdown",
   "metadata": {
    "application/vnd.databricks.v1+cell": {
     "inputWidgets": {},
     "nuid": "4c81360b-6b2f-475c-8489-ff244b9b130a",
     "showTitle": false,
     "title": ""
    }
   },
   "source": [
    "Нейрон \"AND\""
   ]
  },
  {
   "cell_type": "code",
   "execution_count": 5,
   "metadata": {
    "application/vnd.databricks.v1+cell": {
     "inputWidgets": {},
     "nuid": "123e71f6-cea5-4e5a-bb15-3d90e62a1ae4",
     "showTitle": false,
     "title": ""
    },
    "scrolled": true
   },
   "outputs": [
    {
     "name": "stdout",
     "output_type": "stream",
     "text": [
      "Обучение закончилось на  5 шагу.\n",
      "\n",
      " \n",
      " \t Синий - 1, Красный - 0\n"
     ]
    },
    {
     "data": {
      "image/png": "[encoded data removed]",
      "text/plain": [
       "<Figure size 432x288 with 1 Axes>"
      ]
     },
     "metadata": {
      "needs_background": "light"
     },
     "output_type": "display_data"
    }
   ],
   "source": [
    "x_1 = np.array([[1, 1]]) # where label is 1\n",
    "x_0 = np.array([[0, 0], [0, 1], [1, 0]]) # where label is 0\n",
    "\n",
    "n_and = Neuron(np.concatenate((x_1, x_0)), np.concatenate((np.ones(x_1.shape[0]), -1*np.ones(x_0.shape[0]))), np.random.rand(3))\n",
    "n_and.learn()"
   ]
  },
  {
   "cell_type": "markdown",
   "metadata": {
    "application/vnd.databricks.v1+cell": {
     "inputWidgets": {},
     "nuid": "0813c606-6eb2-4590-a182-318a543b0761",
     "showTitle": false,
     "title": ""
    }
   },
   "source": [
    "Нейрон \"OR\""
   ]
  },
  {
   "cell_type": "code",
   "execution_count": 6,
   "metadata": {
    "application/vnd.databricks.v1+cell": {
     "inputWidgets": {},
     "nuid": "38ab7243-ddfb-49ec-9918-26d7bb00fa29",
     "showTitle": false,
     "title": ""
    }
   },
   "outputs": [
    {
     "name": "stdout",
     "output_type": "stream",
     "text": [
      "Обучение закончилось на  4 шагу.\n",
      "\n",
      " \n",
      " \t Синий - 1, Красный - 0\n"
     ]
    },
    {
     "data": {
      "image/png": "[encoded data removed]",
      "text/plain": [
       "<Figure size 432x288 with 1 Axes>"
      ]
     },
     "metadata": {
      "needs_background": "light"
     },
     "output_type": "display_data"
    }
   ],
   "source": [
    "x_1 = np.array([[1, 1], [1, 0], [0, 1]]) # label 1\n",
    "x_0 = np.array([[0, 0]]) # label 0\n",
    "n_or = Neuron(np.concatenate((x_1, x_0)), np.concatenate((np.ones(x_1.shape[0]), -1*np.ones(x_0.shape[0]))), np.random.rand(3))\n",
    "n_or.learn()"
   ]
  },
  {
   "cell_type": "markdown",
   "metadata": {
    "application/vnd.databricks.v1+cell": {
     "inputWidgets": {},
     "nuid": "f4859bde-4dab-48db-9010-4475c73a50d2",
     "showTitle": false,
     "title": ""
    }
   },
   "source": [
    "Для нейрона \"XOR\" добавим доп. функцию и так зазываемый \"не\" нейтрон"
   ]
  },
  {
   "cell_type": "code",
   "execution_count": 7,
   "metadata": {
    "application/vnd.databricks.v1+cell": {
     "inputWidgets": {},
     "nuid": "a9caf069-f4c3-409f-b592-07f400d0c789",
     "showTitle": false,
     "title": ""
    }
   },
   "outputs": [
    {
     "data": {
      "image/png": "[encoded data removed]",
      "text/plain": [
       "<Figure size 432x288 with 1 Axes>"
      ]
     },
     "metadata": {
      "needs_background": "light"
     },
     "output_type": "display_data"
    }
   ],
   "source": [
    "def col(i):\n",
    "    return 'blue' if labels[i] == 1 else 'red'\n",
    "x_1 = np.array([[1, 1], [1, 0], [0, 1]]) # label 1\n",
    "x_0 = np.array([[0, 0]]) # label 0\n",
    "x_1 = np.array([[1, 0], [0, 1]]) # label 1\n",
    "x_0 = np.array([[0, 0], [1, 1]]) # label 0\n",
    "x = np.concatenate((x_1, x_0))\n",
    "labels = np.concatenate((np.ones(x_1.shape[0]), -1*np.ones(x_0.shape[0])))\n",
    "for i in range(len(x)):\n",
    "    plt.scatter(x[i][0], x[i][1], color = col(i))"
   ]
  },
  {
   "cell_type": "code",
   "execution_count": 8,
   "metadata": {
    "application/vnd.databricks.v1+cell": {
     "inputWidgets": {},
     "nuid": "3031b049-02a2-4ea6-8a68-9b92cdcf2b3d",
     "showTitle": false,
     "title": ""
    }
   },
   "outputs": [],
   "source": [
    "x_not = np.array([[0], [1]])\n",
    "labels_not = np.array([1, -1])"
   ]
  },
  {
   "cell_type": "code",
   "execution_count": 9,
   "metadata": {
    "application/vnd.databricks.v1+cell": {
     "inputWidgets": {},
     "nuid": "5b36dbc9-0791-4d60-af97-79f5bbdd4c25",
     "showTitle": false,
     "title": ""
    }
   },
   "outputs": [],
   "source": [
    "n_not = Neuron(x_not, labels_not, np.random.rand(2))"
   ]
  },
  {
   "cell_type": "code",
   "execution_count": 10,
   "metadata": {
    "application/vnd.databricks.v1+cell": {
     "inputWidgets": {},
     "nuid": "63100a7f-9ac5-4870-96ee-a38db6b1e786",
     "showTitle": false,
     "title": ""
    }
   },
   "outputs": [
    {
     "name": "stdout",
     "output_type": "stream",
     "text": [
      "Обучение закончилось на  7 шагу.\n",
      "[ 0.00643163 -0.08742178]\n"
     ]
    }
   ],
   "source": [
    "n_not.learn()"
   ]
  },
  {
   "cell_type": "code",
   "execution_count": 11,
   "metadata": {
    "application/vnd.databricks.v1+cell": {
     "inputWidgets": {},
     "nuid": "57dfb012-a6ef-4f78-ade6-1acecfc18a17",
     "showTitle": false,
     "title": ""
    },
    "scrolled": true
   },
   "outputs": [
    {
     "data": {
      "text/plain": [
       "0"
      ]
     },
     "execution_count": 11,
     "metadata": {},
     "output_type": "execute_result"
    }
   ],
   "source": [
    "n_not.output([1])"
   ]
  },
  {
   "cell_type": "code",
   "execution_count": 12,
   "metadata": {
    "application/vnd.databricks.v1+cell": {
     "inputWidgets": {},
     "nuid": "ec032390-cc5c-4e55-b4aa-eff596ec6c79",
     "showTitle": false,
     "title": ""
    }
   },
   "outputs": [],
   "source": [
    "def prepare_for_xor(x):\n",
    "    x_xor = np.empty(x.shape)\n",
    "    for i in range(len(x)):\n",
    "        x_xor[i] = [n_and.output([n_not.output([x[i][0]]), x[i][1]]), \\\n",
    "                n_and.output([x[i][0], n_not.output([x[i][1]])])]\n",
    "    return x_xor"
   ]
  },
  {
   "cell_type": "code",
   "execution_count": 13,
   "metadata": {
    "application/vnd.databricks.v1+cell": {
     "inputWidgets": {},
     "nuid": "3fdf885e-4877-4bc7-9dc9-45003304fea6",
     "showTitle": false,
     "title": ""
    }
   },
   "outputs": [],
   "source": [
    "x_xor = prepare_for_xor(x)"
   ]
  },
  {
   "cell_type": "code",
   "execution_count": 14,
   "metadata": {
    "application/vnd.databricks.v1+cell": {
     "inputWidgets": {},
     "nuid": "e0cd0085-d428-4e3d-a72a-b6d49e516c88",
     "showTitle": false,
     "title": ""
    }
   },
   "outputs": [
    {
     "name": "stdout",
     "output_type": "stream",
     "text": [
      "Обучение закончилось на  5 шагу.\n",
      "\n",
      " \n",
      " \t Синий - 1, Красный - 0\n"
     ]
    },
    {
     "data": {
      "image/png": "[encoded data removed]",
      "text/plain": [
       "<Figure size 432x288 with 1 Axes>"
      ]
     },
     "metadata": {
      "needs_background": "light"
     },
     "output_type": "display_data"
    }
   ],
   "source": [
    "n_xor = Neuron(x_xor, labels, np.random.rand(3))\n",
    "n_xor.learn()"
   ]
  },
  {
   "cell_type": "code",
   "execution_count": null,
   "metadata": {},
   "outputs": [],
   "source": []
  },
  {
   "cell_type": "code",
   "execution_count": null,
   "metadata": {},
   "outputs": [],
   "source": []
  }
 ],
 "metadata": {
  "application/vnd.databricks.v1+notebook": {
   "dashboards": [],
   "language": "python",
   "notebookMetadata": {
    "pythonIndentUnit": 2
   },
   "notebookName": "neuron",
   "notebookOrigID": 1147173675697294,
   "widgets": {}
  },
  "kernelspec": {
   "display_name": "Python 3 (ipykernel)",
   "language": "python",
   "name": "python3"
  },
  "language_info": {
   "codemirror_mode": {
    "name": "ipython",
    "version": 3
   },
   "file_extension": ".py",
   "mimetype": "text/x-python",
   "name": "python",
   "nbconvert_exporter": "python",
   "pygments_lexer": "ipython3",
   "version": "3.9.7"
  }
 },
 "nbformat": 4,
 "nbformat_minor": 4
}
