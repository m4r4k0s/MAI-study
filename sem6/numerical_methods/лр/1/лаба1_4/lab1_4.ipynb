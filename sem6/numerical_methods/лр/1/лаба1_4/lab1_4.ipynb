{
 "cells": [
  {
   "cell_type": "code",
   "execution_count": 1,
   "metadata": {},
   "outputs": [],
   "source": [
    "import numpy as np\n",
    "import math"
   ]
  },
  {
   "cell_type": "code",
   "execution_count": 2,
   "metadata": {},
   "outputs": [],
   "source": [
    "def get_mat(file):\n",
    "    mat = []\n",
    "    with open(file) as file_handler:\n",
    "        for line in file_handler:\n",
    "            row = list(map(int, line.split(',')[:-1]))\n",
    "            mat.append(row)\n",
    "        mat = np.asarray(mat)\n",
    "    return mat\n",
    "\n",
    "def get_angle(mat, i,j):\n",
    "    if mat[i,i] == mat[j,j]:\n",
    "        return math.PI/4\n",
    "    else:\n",
    "        return 0.5 * math.atan(2*mat[i,j]/(mat[i,i] -mat[j,j]))\n",
    "    \n",
    "def get_max(mat):\n",
    "    index = [0,1]\n",
    "    mat_size = mat[:,0].size\n",
    "    mat_tmp = np.abs(mat.copy())\n",
    "    max_elem = mat_tmp[index[0],index[1]]\n",
    "    for i in np.arange(0,mat_size):\n",
    "        for j in np.arange(0,mat_size):\n",
    "            if i==j:\n",
    "                continue\n",
    "            else:\n",
    "                if max_elem < mat_tmp[i,j]:\n",
    "                    max_elem = mat_tmp[i,j]\n",
    "                    index = [i,j]\n",
    "                else:\n",
    "                    pass\n",
    "    \n",
    "    return index\n",
    "\n",
    "def norm_matrix_non_diag(matrix):\n",
    "    norm = 0\n",
    "    mat_size = matrix[:,0].size\n",
    "    for i in np.arange(0,mat_size):\n",
    "        for j in np.arange(0,mat_size):\n",
    "            if i==j:\n",
    "                continue\n",
    "            else:\n",
    "                norm += matrix[i,j]*matrix[i,j]\n",
    "    return np.sqrt(norm)\n",
    "\n",
    "\n",
    "def transpose(matr):\n",
    "    res=[]\n",
    "    n=len(matr)\n",
    "    m=len(matr[0])\n",
    "    for j in range(m):\n",
    "        tmp=[]\n",
    "        for i in range(n):\n",
    "            tmp=tmp+[matr[i][j]]\n",
    "        res=res+[tmp]\n",
    "    return np.array(res)\n"
   ]
  },
  {
   "cell_type": "code",
   "execution_count": 6,
   "metadata": {},
   "outputs": [
    {
     "name": "stdout",
     "output_type": "stream",
     "text": [
      "[[ 8 -3  9]\n",
      " [-3  8 -2]\n",
      " [ 9 -2 -8]]\n",
      "[ 14.11433982   5.94540849 -12.05974831]\n",
      "[[ 0.78338032  0.47116892 -0.40535802]\n",
      " [-0.50354661  0.86343043  0.03047448]\n",
      " [ 0.36435708  0.18024355  0.91364992]]\n"
     ]
    }
   ],
   "source": [
    "epsilon = 0.001\n",
    "mat = get_mat(\"test.txt\")\n",
    "print(mat)\n",
    "mat_test = mat.copy()\n",
    "mat_size = mat[:,0].size\n",
    "X = np.eye(mat_size)\n",
    "k = 0\n",
    "while True:\n",
    "    max_index = get_max(mat)\n",
    "    angle = get_angle(mat, max_index[0], max_index[1])\n",
    "    U = np.eye(mat_size).copy()\n",
    "    U[max_index[0],max_index[0]] =  math.cos(angle)\n",
    "    U[max_index[0],max_index[1]] = -math.sin(angle)\n",
    "    U[max_index[1],max_index[0]] =  math.sin(angle)\n",
    "    U[max_index[1],max_index[1]] =  math.cos(angle)\n",
    "    X = np.dot(X.copy(),U.copy())\n",
    "    mat = np.dot(transpose(U.copy()),mat.copy())\n",
    "    mat = np.dot(mat.copy(), U.copy())\n",
    "    p = norm_matrix_non_diag(mat)\n",
    "    k += 1\n",
    "    if epsilon > p or angle == 0 or k > 100:\n",
    "        break\n",
    "    \n",
    "print (np.diagonal(mat))\n",
    "print(X)"
   ]
  },
  {
   "cell_type": "code",
   "execution_count": 4,
   "metadata": {},
   "outputs": [
    {
     "name": "stdout",
     "output_type": "stream",
     "text": [
      "(array([-12.05974831,  14.11433982,   5.94540849]), array([[ 0.40536058,  0.78338032,  0.47116671],\n",
      "       [-0.03046978, -0.50354661,  0.8634306 ],\n",
      "       [-0.91364894,  0.36435707,  0.18024852]]))\n"
     ]
    }
   ],
   "source": [
    "print(np.linalg.eig(mat_test))\n"
   ]
  },
  {
   "cell_type": "code",
   "execution_count": 5,
   "metadata": {},
   "outputs": [
    {
     "data": {
      "text/plain": [
       "array([[ 1.41143398e+01,  1.73472348e-18, -1.02777248e-07],\n",
       "       [ 2.25514052e-17,  5.94540849e+00,  9.80042901e-05],\n",
       "       [-1.02777248e-07,  9.80042901e-05, -1.20597483e+01]])"
      ]
     },
     "execution_count": 5,
     "metadata": {},
     "output_type": "execute_result"
    }
   ],
   "source": []
  },
  {
   "cell_type": "code",
   "execution_count": null,
   "metadata": {},
   "outputs": [],
   "source": []
  }
 ],
 "metadata": {
  "kernelspec": {
   "display_name": "Python 3",
   "language": "python",
   "name": "python3"
  },
  "language_info": {
   "codemirror_mode": {
    "name": "ipython",
    "version": 3
   },
   "file_extension": ".py",
   "mimetype": "text/x-python",
   "name": "python",
   "nbconvert_exporter": "python",
   "pygments_lexer": "ipython3",
   "version": "3.8.3"
  }
 },
 "nbformat": 4,
 "nbformat_minor": 4
}
